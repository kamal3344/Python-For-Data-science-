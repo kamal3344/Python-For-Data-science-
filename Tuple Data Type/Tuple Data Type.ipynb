{
 "cells": [
  {
   "cell_type": "markdown",
   "metadata": {},
   "source": [
    "# Tuple Data type"
   ]
  },
  {
   "cell_type": "code",
   "execution_count": null,
   "metadata": {},
   "outputs": [],
   "source": [
    "# Python Tuple is used to store the sequence of immutable Python objects. \n",
    "# The tuple is similar to lists since the value of the items stored in the list can be changed,\n",
    "# where as the tuple is immutable, and the value of the items stored in the tuple cannot be changed."
   ]
  },
  {
   "cell_type": "code",
   "execution_count": 21,
   "metadata": {},
   "outputs": [],
   "source": [
    "# tuple has only 2 pre defined methods \n",
    "# index \n",
    "# count"
   ]
  },
  {
   "cell_type": "code",
   "execution_count": 22,
   "metadata": {},
   "outputs": [
    {
     "data": {
      "text/plain": [
       "tuple"
      ]
     },
     "execution_count": 22,
     "metadata": {},
     "output_type": "execute_result"
    }
   ],
   "source": [
    "a=(1,2,3)\n",
    "type(a)"
   ]
  },
  {
   "cell_type": "code",
   "execution_count": 23,
   "metadata": {},
   "outputs": [
    {
     "name": "stdout",
     "output_type": "stream",
     "text": [
      "4\n"
     ]
    }
   ],
   "source": [
    "a=(1,2,3,4)\n",
    "b=len(a)\n",
    "print(b)"
   ]
  },
  {
   "cell_type": "code",
   "execution_count": 24,
   "metadata": {},
   "outputs": [
    {
     "data": {
      "text/plain": [
       "2"
      ]
     },
     "execution_count": 24,
     "metadata": {},
     "output_type": "execute_result"
    }
   ],
   "source": [
    "a=(1,2,3,4,4)\n",
    "a.count(4)\n"
   ]
  },
  {
   "cell_type": "code",
   "execution_count": 25,
   "metadata": {},
   "outputs": [
    {
     "data": {
      "text/plain": [
       "3"
      ]
     },
     "execution_count": 25,
     "metadata": {},
     "output_type": "execute_result"
    }
   ],
   "source": [
    "a=(1,2,3,4)\n",
    "a.index(4)"
   ]
  },
  {
   "cell_type": "code",
   "execution_count": 26,
   "metadata": {},
   "outputs": [
    {
     "name": "stdout",
     "output_type": "stream",
     "text": [
      "(3, 4, 5, 6, 7, 8)\n"
     ]
    }
   ],
   "source": [
    "# using slicing concept\n",
    "a=(1,2,3,4,5,6,7,8)\n",
    "print(a[2:])"
   ]
  },
  {
   "cell_type": "code",
   "execution_count": 27,
   "metadata": {},
   "outputs": [
    {
     "name": "stdout",
     "output_type": "stream",
     "text": [
      "(8, 7, 6, 5, 4, 3, 2, 1)\n"
     ]
    }
   ],
   "source": [
    "# reverse\n",
    "a=(1,2,3,4,5,6,7,8)\n",
    "print(a[::-1])"
   ]
  },
  {
   "cell_type": "code",
   "execution_count": 28,
   "metadata": {},
   "outputs": [],
   "source": [
    "# A tuple can be written as the collection of comma-separated (,) values enclosed with the small () brackets.\n",
    "# The parentheses are optional but it is good practice to use. A tuple can be defined as follows."
   ]
  },
  {
   "cell_type": "code",
   "execution_count": 29,
   "metadata": {},
   "outputs": [
    {
     "name": "stdout",
     "output_type": "stream",
     "text": [
      "<class 'tuple'>\n",
      "<class 'tuple'>\n",
      "<class 'tuple'>\n"
     ]
    }
   ],
   "source": [
    "a = (101, \"Peter\", 22)    \n",
    "b = (\"Apple\", \"Banana\", \"Orange\")     \n",
    "c = 10,20,30,40,50  \n",
    "  \n",
    "print(type(a))  \n",
    "print(type(b))  \n",
    "print(type(c))  "
   ]
  },
  {
   "cell_type": "code",
   "execution_count": 30,
   "metadata": {},
   "outputs": [
    {
     "name": "stdout",
     "output_type": "stream",
     "text": [
      "<class 'str'>\n",
      "<class 'tuple'>\n"
     ]
    }
   ],
   "source": [
    "a = (\"python\")  \n",
    "print(type(a))  \n",
    "#Creating a tuple with single element   \n",
    "b = (\"python\",)  \n",
    "print(type(b))  "
   ]
  },
  {
   "cell_type": "code",
   "execution_count": 31,
   "metadata": {},
   "outputs": [
    {
     "name": "stdout",
     "output_type": "stream",
     "text": [
      "(10, 20, 30, 40, 50, 60)\n",
      "a[0] = 10\n",
      "a[1] = 20\n",
      "a[2] = 30\n",
      "a[3] = 40\n",
      "a[4] = 50\n",
      "a[5] = 60\n"
     ]
    }
   ],
   "source": [
    "a = (10, 20, 30, 40, 50, 60)    \n",
    "print(a)    \n",
    "count = 0    \n",
    "for i in a:    \n",
    "    print(\"a[%d] = %d\"%(count, i))   \n",
    "    count = count+1  "
   ]
  },
  {
   "cell_type": "code",
   "execution_count": 32,
   "metadata": {},
   "outputs": [
    {
     "name": "stdout",
     "output_type": "stream",
     "text": [
      "kamal\n",
      "13\n"
     ]
    }
   ],
   "source": [
    "# using index values\n",
    "a=('kamal','kumar',12,13)\n",
    "print(a[0])\n",
    "print(a[3])"
   ]
  }
 ],
 "metadata": {
  "kernelspec": {
   "display_name": "Python 3",
   "language": "python",
   "name": "python3"
  },
  "language_info": {
   "codemirror_mode": {
    "name": "ipython",
    "version": 3
   },
   "file_extension": ".py",
   "mimetype": "text/x-python",
   "name": "python",
   "nbconvert_exporter": "python",
   "pygments_lexer": "ipython3",
   "version": "3.7.4"
  }
 },
 "nbformat": 4,
 "nbformat_minor": 2
}
