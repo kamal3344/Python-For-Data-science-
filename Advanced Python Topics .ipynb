{
 "cells": [
  {
   "cell_type": "raw",
   "metadata": {},
   "source": [
    "1 . Exception Handling \n",
    "2 . class\n",
    "3 . object \n",
    "4 . Inheritance\n",
    "5 . polymorphism\n",
    "6 . Abstraction\n",
    "7 . super keyword\n",
    "8 . Encapsulation\n",
    "9 . Deep copy and shallow copy\n",
    "10. constructors \n",
    "11. Non static methods and static Methods \n",
    "13. Array Implementation without List\n"
   ]
  },
  {
   "cell_type": "markdown",
   "metadata": {},
   "source": []
  }
 ],
 "metadata": {
  "kernelspec": {
   "display_name": "Python 3",
   "language": "python",
   "name": "python3"
  },
  "language_info": {
   "codemirror_mode": {
    "name": "ipython",
    "version": 3
   },
   "file_extension": ".py",
   "mimetype": "text/x-python",
   "name": "python",
   "nbconvert_exporter": "python",
   "pygments_lexer": "ipython3",
   "version": "3.7.4"
  }
 },
 "nbformat": 4,
 "nbformat_minor": 2
}
