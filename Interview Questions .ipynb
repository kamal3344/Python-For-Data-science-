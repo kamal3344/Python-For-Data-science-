{
 "cells": [
  {
   "cell_type": "markdown",
   "metadata": {},
   "source": [
    "1. print('Hello World')\n",
    "2. Addition of 2 Numbers from user input\n",
    "3. Maximum of 2 Numbers\n",
    "4. factorial Of a Number\n",
    "5. Check Whether the user input Number is Positive Number or ODD Number \n",
    "6. Check the Area of a Rectangle\n",
    "7. Check the Area of triangle\n",
    "8. check quadratic equation\n",
    "9. Area of circle\n",
    "10. swaping of 2 Numbers\n",
    "11. swapping of 2 Numbers without using 3rd variables\n"
   ]
  },
  {
   "cell_type": "code",
   "execution_count": 1,
   "metadata": {},
   "outputs": [
    {
     "name": "stdout",
     "output_type": "stream",
     "text": [
      "hello world\n"
     ]
    }
   ],
   "source": [
    "# question 1:\n",
    "print('hello world')"
   ]
  },
  {
   "cell_type": "code",
   "execution_count": 3,
   "metadata": {},
   "outputs": [
    {
     "name": "stdout",
     "output_type": "stream",
     "text": [
      "Enter First NUmber = 2\n",
      "ENter second Number = 3\n",
      "The first Number 2 and Second Number 3 Addition is 5 \n"
     ]
    }
   ],
   "source": [
    "## question 2 \n",
    "a = int(input(\"Enter First NUmber = \"))\n",
    "b = int(input(\"ENter second Number = \"))\n",
    "c = a + b\n",
    "print(\"The first Number {} and Second Number {} Addition is {} \".format(a,b,c))"
   ]
  },
  {
   "cell_type": "code",
   "execution_count": 5,
   "metadata": {},
   "outputs": [
    {
     "name": "stdout",
     "output_type": "stream",
     "text": [
      "21\n"
     ]
    }
   ],
   "source": [
    "## question 3\n",
    "a = 21\n",
    "b = 11\n",
    "if a > b:\n",
    "    print(a)\n",
    "else:\n",
    "    print(b)"
   ]
  },
  {
   "cell_type": "code",
   "execution_count": 6,
   "metadata": {},
   "outputs": [
    {
     "name": "stdout",
     "output_type": "stream",
     "text": [
      "21\n"
     ]
    }
   ],
   "source": [
    "## with function\n",
    "def kamal(a , b):\n",
    "    if a > b:\n",
    "        return a\n",
    "    else:\n",
    "        return b\n",
    "    \n",
    "a = 21\n",
    "b = 11\n",
    "result = kamal(a , b)\n",
    "print(result)"
   ]
  },
  {
   "cell_type": "code",
   "execution_count": 2,
   "metadata": {},
   "outputs": [
    {
     "name": "stdout",
     "output_type": "stream",
     "text": [
      "Enter a Number for factorial = 6\n",
      "720\n"
     ]
    }
   ],
   "source": [
    "## Question 4 \n",
    "# factorial of a Number \n",
    "# 5 -> 5 * 4 * 3 * 2 * 1  = 120\n",
    "n = int(input(\"Enter a Number for factorial = \"))\n",
    "fact = 1\n",
    "while n > 1:\n",
    "    fact = fact * n \n",
    "    n = n -1\n",
    "print(fact)"
   ]
  },
  {
   "cell_type": "code",
   "execution_count": 5,
   "metadata": {},
   "outputs": [
    {
     "name": "stdout",
     "output_type": "stream",
     "text": [
      "Enter a Number for factorial = 45\n",
      "It is positive value \n"
     ]
    }
   ],
   "source": [
    "# question 5\n",
    "\n",
    "n = int(input(\"Enter a Number for factorial = \"))\n",
    "if n < 0:\n",
    "    print('It is Negative Number ')\n",
    "elif n == 0:\n",
    "    print(\"It is value 0\")\n",
    "else:\n",
    "    print(\"It is positive value \")"
   ]
  },
  {
   "cell_type": "code",
   "execution_count": 6,
   "metadata": {},
   "outputs": [
    {
     "name": "stdout",
     "output_type": "stream",
     "text": [
      "2\n"
     ]
    }
   ],
   "source": [
    "## question 6\n",
    "# formula for area of rectangle = l * b \n",
    "\n",
    "length = 1\n",
    "breadth = 2\n",
    "c = length * breadth\n",
    "print(c)"
   ]
  },
  {
   "cell_type": "code",
   "execution_count": 7,
   "metadata": {},
   "outputs": [
    {
     "name": "stdout",
     "output_type": "stream",
     "text": [
      "4.0\n"
     ]
    }
   ],
   "source": [
    "## question 7\n",
    "\n",
    "# formula for area of triangle = 1/2 * b * h\n",
    "base = 1\n",
    "height = 8\n",
    "a_o_r = 1/2 * base * height\n",
    "print(a_o_r)"
   ]
  },
  {
   "cell_type": "code",
   "execution_count": 11,
   "metadata": {},
   "outputs": [
    {
     "name": "stdout",
     "output_type": "stream",
     "text": [
      "-2.0\n",
      "6.0\n"
     ]
    }
   ],
   "source": [
    "## question 8\n",
    "\n",
    "# qudratice equation = -b +- b2 - 4ac/2a\n",
    "\n",
    "a = 1\n",
    "b = 2\n",
    "c = 3\n",
    "\n",
    "upper_area = (b ** b) - ( 4 * a * c )\n",
    "\n",
    "positive = b + upper_area / (2 * a)\n",
    "print(positive)\n",
    "\n",
    "Negative  = b - upper_area / (2 * a)\n",
    "print(Negative)\n",
    "\n"
   ]
  },
  {
   "cell_type": "code",
   "execution_count": null,
   "metadata": {},
   "outputs": [],
   "source": []
  }
 ],
 "metadata": {
  "kernelspec": {
   "display_name": "Python 3",
   "language": "python",
   "name": "python3"
  },
  "language_info": {
   "codemirror_mode": {
    "name": "ipython",
    "version": 3
   },
   "file_extension": ".py",
   "mimetype": "text/x-python",
   "name": "python",
   "nbconvert_exporter": "python",
   "pygments_lexer": "ipython3",
   "version": "3.7.4"
  }
 },
 "nbformat": 4,
 "nbformat_minor": 2
}
