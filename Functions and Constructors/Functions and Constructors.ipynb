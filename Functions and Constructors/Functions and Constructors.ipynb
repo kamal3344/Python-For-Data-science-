{
 "cells": [
  {
   "cell_type": "code",
   "execution_count": 9,
   "metadata": {},
   "outputs": [
    {
     "name": "stdout",
     "output_type": "stream",
     "text": [
      "20\n"
     ]
    }
   ],
   "source": [
    "# Functions usually denoted by keyword called def\n",
    "\n",
    "def fun1(a):\n",
    "    return a*2\n",
    "\n",
    "result=fun1(10)\n",
    "print(result)"
   ]
  },
  {
   "cell_type": "markdown",
   "metadata": {},
   "source": [
    "\n",
    "# class\n",
    "==================\n",
    "\n",
    "# -> collection of objects \n",
    "\n",
    "\n",
    "# object\n",
    "=================\n",
    "\n",
    "# -> instance of a class\n",
    "\n",
    "\n"
   ]
  },
  {
   "cell_type": "code",
   "execution_count": 18,
   "metadata": {},
   "outputs": [
    {
     "data": {
      "text/plain": [
       "3"
      ]
     },
     "execution_count": 18,
     "metadata": {},
     "output_type": "execute_result"
    }
   ],
   "source": [
    "class one:\n",
    "    def fun2(self,a,b):\n",
    "        return a+b\n",
    "obj=one()\n",
    "obj.fun2(1,2)"
   ]
  },
  {
   "cell_type": "code",
   "execution_count": 19,
   "metadata": {},
   "outputs": [
    {
     "name": "stdout",
     "output_type": "stream",
     "text": [
      "i am an first method\n",
      "i am second method\n"
     ]
    }
   ],
   "source": [
    "class two:\n",
    "    def fun3(self):\n",
    "        print('i am an first method')\n",
    "    def fun4(self):\n",
    "        print('i am second method')\n",
    "obj=two()\n",
    "obj.fun3()\n",
    "obj.fun4()"
   ]
  },
  {
   "cell_type": "code",
   "execution_count": 22,
   "metadata": {},
   "outputs": [
    {
     "name": "stdout",
     "output_type": "stream",
     "text": [
      "the given parameters are 17\n"
     ]
    }
   ],
   "source": [
    "class three:\n",
    "    def fun5(self,a,b):\n",
    "        print('the given parameters are',a+b)\n",
    "    \n",
    "obj=three()\n",
    "obj.fun5(8,9)"
   ]
  },
  {
   "cell_type": "code",
   "execution_count": 23,
   "metadata": {},
   "outputs": [
    {
     "name": "stdout",
     "output_type": "stream",
     "text": [
      "Enter a: 12\n",
      "Enter b: 34\n",
      "Sum =  46\n"
     ]
    }
   ],
   "source": [
    "#Python function to calculate the sum of two variables     \n",
    "#defining the function \n",
    "\n",
    "def sum (a,b):    \n",
    "    return a+b;    \n",
    "    \n",
    "#taking values from the user \n",
    "\n",
    "\n",
    "a = int(input(\"Enter a: \"))    \n",
    "b = int(input(\"Enter b: \"))    \n",
    "    \n",
    "#printing the sum of a and b   \n",
    "\n",
    "print(\"Sum = \",sum(a,b))    "
   ]
  },
  {
   "cell_type": "code",
   "execution_count": 24,
   "metadata": {},
   "outputs": [
    {
     "name": "stdout",
     "output_type": "stream",
     "text": [
      "list inside function =  [10, 30, 40, 50, 20, 30]\n",
      "list outside function =  [10, 30, 40, 50, 20, 30]\n"
     ]
    }
   ],
   "source": [
    "def change_list(list1):    \n",
    "    list1.append(20)   \n",
    "    list1.append(30)    \n",
    "    print(\"list inside function = \",list1)    \n",
    "    \n",
    "#defining the list    \n",
    "# using list data type\n",
    "\n",
    "list1 = [10,30,40,50]    \n",
    "    \n",
    "#calling the function   \n",
    "\n",
    "change_list(list1)  \n",
    "print(\"list outside function = \",list1)  "
   ]
  },
  {
   "cell_type": "code",
   "execution_count": 28,
   "metadata": {},
   "outputs": [
    {
     "name": "stdout",
     "output_type": "stream",
     "text": [
      "Welcome to Tutorial Gateway\n",
      "Welcome to Python Programming\n"
     ]
    }
   ],
   "source": [
    "# using static method\n",
    "\n",
    "\n",
    "class Employee:\n",
    "     \n",
    "    def func_message(self):\n",
    "        print('Welcome to Python Programming')\n",
    " \n",
    "\n",
    "    @staticmethod\n",
    "    def func_msg():\n",
    "        print(\"Welcome to Tutorial Gateway\")\n",
    "        \n",
    "'''        \n",
    "calling static method using class name because static methods can be callable using class name only \n",
    "'''\n",
    "\n",
    "Employee.func_msg()\n",
    " \n",
    "emp = Employee()\n",
    "emp.func_message()\n",
    "\n",
    "\n",
    "\n",
    "\n",
    "    "
   ]
  },
  {
   "cell_type": "code",
   "execution_count": 25,
   "metadata": {},
   "outputs": [
    {
     "name": "stdout",
     "output_type": "stream",
     "text": [
      "printing the string inside function : Hi I am there Hows you \n",
      "printing the string outside function : Hi I am there\n"
     ]
    }
   ],
   "source": [
    "def change_string (str):    \n",
    "    str = str + \" Hows you \"  \n",
    "    \n",
    "    print(\"printing the string inside function :\",str)  \n",
    "    \n",
    "string1 = \"Hi I am there\"    \n",
    "    \n",
    "#calling the function    \n",
    "\n",
    "change_string(string1)    \n",
    "    \n",
    "print(\"printing the string outside function :\",string1)    "
   ]
  },
  {
   "cell_type": "markdown",
   "metadata": {},
   "source": [
    "# constructors\n",
    "====================================="
   ]
  },
  {
   "cell_type": "markdown",
   "metadata": {},
   "source": [
    "# Constructors can be of two types.\n",
    "====================================================================\n",
    "\n",
    "\n",
    "#  Parameterized Constructor\n",
    "\n",
    "# Non-parameterized Constructor"
   ]
  },
  {
   "cell_type": "code",
   "execution_count": 37,
   "metadata": {},
   "outputs": [
    {
     "name": "stdout",
     "output_type": "stream",
     "text": [
      "The First Constructor\n"
     ]
    }
   ],
   "source": [
    "#implicit constructor\n",
    "\n",
    "class Student:  \n",
    "    def __init__(self):  \n",
    "        print(\"The First Constructor\")  \n",
    "obj=Student()"
   ]
  },
  {
   "cell_type": "code",
   "execution_count": 38,
   "metadata": {},
   "outputs": [
    {
     "name": "stdout",
     "output_type": "stream",
     "text": [
      "101 Joseph\n"
     ]
    }
   ],
   "source": [
    "class Student:  \n",
    "    roll_num = 101  \n",
    "    name = \"Joseph\"  \n",
    "  \n",
    "    def display(self):  \n",
    "        print(self.roll_num,self.name)  \n",
    "  \n",
    "st = Student()  \n",
    "st.display()  "
   ]
  },
  {
   "cell_type": "code",
   "execution_count": 40,
   "metadata": {},
   "outputs": [
    {
     "name": "stdout",
     "output_type": "stream",
     "text": [
      "This is parametrized constructor\n"
     ]
    }
   ],
   "source": [
    "class Student:  \n",
    "    # Constructor - parameterized  \n",
    "    def __init__(self, name):  \n",
    "        print(\"This is parametrized constructor\")  \n",
    "        self.name = name  \n",
    "    def show(self):  \n",
    "        print(\"Hello\",self.name)  \n",
    "student = Student(\"John\")  "
   ]
  }
 ],
 "metadata": {
  "kernelspec": {
   "display_name": "Python 3",
   "language": "python",
   "name": "python3"
  },
  "language_info": {
   "codemirror_mode": {
    "name": "ipython",
    "version": 3
   },
   "file_extension": ".py",
   "mimetype": "text/x-python",
   "name": "python",
   "nbconvert_exporter": "python",
   "pygments_lexer": "ipython3",
   "version": "3.7.4"
  }
 },
 "nbformat": 4,
 "nbformat_minor": 2
}
