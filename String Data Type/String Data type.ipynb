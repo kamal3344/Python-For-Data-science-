{
 "cells": [
  {
   "cell_type": "markdown",
   "metadata": {},
   "source": [
    "# String Data Type"
   ]
  },
  {
   "cell_type": "code",
   "execution_count": 1,
   "metadata": {},
   "outputs": [],
   "source": [
    "# we will discuss the most popular data type in Python, i.e., string.\n",
    "# Python string is the collection of the characters surrounded by single quotes, double quotes, or triple quotes\n",
    "# The computer does not understand the characters; internally, \n",
    "# it stores manipulated character as the combination of the 0's and 1's."
   ]
  },
  {
   "cell_type": "code",
   "execution_count": 3,
   "metadata": {},
   "outputs": [
    {
     "data": {
      "text/plain": [
       "str"
      ]
     },
     "execution_count": 3,
     "metadata": {},
     "output_type": "execute_result"
    }
   ],
   "source": [
    "# checking data type\n",
    "a='python'\n",
    "type(a)"
   ]
  },
  {
   "cell_type": "code",
   "execution_count": 4,
   "metadata": {},
   "outputs": [],
   "source": [
    "# single\n",
    "# multiple\n",
    "# triple quotes are possible while initalizing the array"
   ]
  },
  {
   "cell_type": "code",
   "execution_count": 6,
   "metadata": {},
   "outputs": [
    {
     "name": "stdout",
     "output_type": "stream",
     "text": [
      "Hello Python\n",
      "Hello Python\n",
      "hello python\n"
     ]
    }
   ],
   "source": [
    "str1 = 'Hello Python'  \n",
    "print(str1)\n",
    "\n",
    "#Using double quotes\n",
    "\n",
    "str2 = \"Hello Python\"  \n",
    "print(str2)  \n",
    "  \n",
    "#Using triple quotes\n",
    "\n",
    "str3 = '''hello python'''\n",
    "\n",
    "print(str3)  "
   ]
  },
  {
   "cell_type": "code",
   "execution_count": 8,
   "metadata": {},
   "outputs": [
    {
     "name": "stdout",
     "output_type": "stream",
     "text": [
      "p\n"
     ]
    }
   ],
   "source": [
    "# using index \n",
    "a='python'\n",
    "print(a[0])\n"
   ]
  },
  {
   "cell_type": "code",
   "execution_count": 16,
   "metadata": {},
   "outputs": [
    {
     "name": "stdout",
     "output_type": "stream",
     "text": [
      "python is a programming language\n",
      "pyt\n",
      "th\n"
     ]
    }
   ],
   "source": [
    "# slicing operations also possible in python\n",
    "# slicing operations are completely based on index positions \n",
    "a='python is a programming language'\n",
    "# starting to the end string will get printed\n",
    "print(a[0:])\n",
    "print(a[0:3])\n",
    "print(a[2:4])  "
   ]
  },
  {
   "cell_type": "code",
   "execution_count": 22,
   "metadata": {},
   "outputs": [
    {
     "name": "stdout",
     "output_type": "stream",
     "text": [
      "e\n",
      "a\n",
      "ge\n",
      "uag\n",
      "angua\n"
     ]
    }
   ],
   "source": [
    "# using slicing concept printing string from back side\n",
    "print(a[-1])  \n",
    "print(a[-3])  \n",
    "print(a[-2:])  \n",
    "print(a[-4:-1])  \n",
    "print(a[-7:-2])  "
   ]
  },
  {
   "cell_type": "code",
   "execution_count": 23,
   "metadata": {},
   "outputs": [
    {
     "name": "stdout",
     "output_type": "stream",
     "text": [
      "egaugnal gnimmargorp a si nohtyp\n"
     ]
    }
   ],
   "source": [
    "# to print the string in reverse way\n",
    "print(a[::-1])"
   ]
  },
  {
   "cell_type": "code",
   "execution_count": 24,
   "metadata": {},
   "outputs": [
    {
     "name": "stdout",
     "output_type": "stream",
     "text": [
      "HelloHelloHello\n",
      "Hello world\n",
      "o\n",
      "ll\n",
      "False\n",
      "False\n"
     ]
    }
   ],
   "source": [
    "str = \"Hello\"     \n",
    "str1 = \" world\"    \n",
    "print(str*3) # prints HelloHelloHello    \n",
    "print(str+str1)# prints Hello world     \n",
    "print(str[4]) # prints o                \n",
    "print(str[2:4]); # prints ll                    \n",
    "print('w' in str) # prints false as w is not present in str    \n",
    "print('wo' not in str1) # prints false as wo is present in str1.     "
   ]
  },
  {
   "cell_type": "code",
   "execution_count": 25,
   "metadata": {},
   "outputs": [
    {
     "name": "stdout",
     "output_type": "stream",
     "text": [
      "hello machine learning\n"
     ]
    }
   ],
   "source": [
    "# string format\n",
    "# %s - string\n",
    "# %d -  int \n",
    "\n",
    "str='machine learning'\n",
    "print('hello %s'%str)"
   ]
  },
  {
   "cell_type": "code",
   "execution_count": 27,
   "metadata": {},
   "outputs": [
    {
     "name": "stdout",
     "output_type": "stream",
     "text": [
      "welcome to the 2 class of machine learning\n"
     ]
    }
   ],
   "source": [
    "a='machine learning'\n",
    "b=2\n",
    "print('welcome to the %d class of %s' %(b,a))"
   ]
  },
  {
   "cell_type": "code",
   "execution_count": 28,
   "metadata": {},
   "outputs": [],
   "source": [
    "# some important methods are \n",
    "\n",
    "# capitalize\n",
    "# isalnum\n",
    "# isalpha\n",
    "# isdecimal\n",
    "# isdigit\n",
    "# islower\n",
    "# isupper\n",
    "# len"
   ]
  },
  {
   "cell_type": "code",
   "execution_count": 1,
   "metadata": {},
   "outputs": [
    {
     "name": "stdout",
     "output_type": "stream",
     "text": [
      "Old value: something\n",
      "New value: Something\n"
     ]
    }
   ],
   "source": [
    "# iscapitalize\n",
    "a = \"something\"    \n",
    "b = a.capitalize()  \n",
    "# Displaying result  \n",
    "print(\"Old value:\", a)  \n",
    "print(\"New value:\", b)  \n",
    "# new value the first element of the string get capitalized"
   ]
  },
  {
   "cell_type": "code",
   "execution_count": 32,
   "metadata": {},
   "outputs": [
    {
     "name": "stdout",
     "output_type": "stream",
     "text": [
      "True\n"
     ]
    }
   ],
   "source": [
    "# Python isalnum() function example  \n",
    "# Variable declaration  \n",
    "str = \"Welcome\"  \n",
    "# Calling function  \n",
    "str2 = str.isalnum()  \n",
    "# Displaying result  \n",
    "print(str2)  "
   ]
  },
  {
   "cell_type": "code",
   "execution_count": 37,
   "metadata": {},
   "outputs": [
    {
     "name": "stdout",
     "output_type": "stream",
     "text": [
      "True\n",
      "False\n"
     ]
    }
   ],
   "source": [
    "# if space returns false\n",
    "a = \"Welcome123\"   \n",
    "b = \"Welcome 123\"   \n",
    "c = str.isalnum()  \n",
    "d = str3.isalnum()  \n",
    "print(c)  \n",
    "print(d)  "
   ]
  },
  {
   "cell_type": "code",
   "execution_count": 39,
   "metadata": {},
   "outputs": [],
   "source": [
    "# Python isalpha() method returns true if all characters in the string are alphabetic. \n",
    "# It returns False if the characters are not alphabetic. It returns either True or False."
   ]
  },
  {
   "cell_type": "code",
   "execution_count": 2,
   "metadata": {},
   "outputs": [
    {
     "name": "stdout",
     "output_type": "stream",
     "text": [
      "True\n"
     ]
    }
   ],
   "source": [
    "str = \"engineering\"  \n",
    "# Calling function  \n",
    "str2 = str.isalpha()  \n",
    "# Displaying result  \n",
    "print(str2)  "
   ]
  },
  {
   "cell_type": "code",
   "execution_count": 3,
   "metadata": {},
   "outputs": [
    {
     "name": "stdout",
     "output_type": "stream",
     "text": [
      "False\n"
     ]
    }
   ],
   "source": [
    "# Python isdecimal() method checks whether all the characters in the string are decimal or not. \n",
    "# Decimal characters are those have base 10.\n",
    "\n",
    "# This method returns boolean either true or false.\n",
    "\n",
    "str = \"engineering\"  \n",
    "# Calling function  \n",
    "str2 = str.isdecimal()  \n",
    "# Displaying result  \n",
    "print(str2)  "
   ]
  },
  {
   "cell_type": "code",
   "execution_count": 42,
   "metadata": {},
   "outputs": [
    {
     "name": "stdout",
     "output_type": "stream",
     "text": [
      "True\n",
      "False\n"
     ]
    }
   ],
   "source": [
    "str = \"123\"     # True  \n",
    "str3 = \"@#$\"   # False  \n",
    "# Calling function  \n",
    "str2 = str.isdecimal()  \n",
    "str4 = str3.isdecimal()  \n",
    "# Displaying result  \n",
    "print(str2)  \n",
    "print(str4)  "
   ]
  },
  {
   "cell_type": "code",
   "execution_count": 44,
   "metadata": {},
   "outputs": [
    {
     "name": "stdout",
     "output_type": "stream",
     "text": [
      "True\n"
     ]
    }
   ],
   "source": [
    "# checking whether ths string is in digits are not\n",
    "\n",
    "\n",
    "a='123'\n",
    "b=a.isdigit()\n",
    "print(b)"
   ]
  },
  {
   "cell_type": "code",
   "execution_count": 48,
   "metadata": {},
   "outputs": [
    {
     "name": "stdout",
     "output_type": "stream",
     "text": [
      "False\n",
      "True\n"
     ]
    }
   ],
   "source": [
    "# checking whether the string is in lower case for upper case\n",
    "# isupper()\n",
    "b=a.isupper()\n",
    "print(b)\n",
    "\n",
    "a1='PYTHON'\n",
    "b1=a1.isupper()\n",
    "print(b1)\n"
   ]
  },
  {
   "cell_type": "code",
   "execution_count": 49,
   "metadata": {},
   "outputs": [
    {
     "name": "stdout",
     "output_type": "stream",
     "text": [
      "True\n"
     ]
    }
   ],
   "source": [
    "# islower()\n",
    "\n",
    "a='python'\n",
    "b=a.islower()\n",
    "print(b)"
   ]
  },
  {
   "cell_type": "code",
   "execution_count": 50,
   "metadata": {},
   "outputs": [
    {
     "name": "stdout",
     "output_type": "stream",
     "text": [
      "False\n"
     ]
    }
   ],
   "source": [
    "a1='PYTHON'\n",
    "b1=a1.islower()\n",
    "print(b1)"
   ]
  },
  {
   "cell_type": "code",
   "execution_count": 51,
   "metadata": {},
   "outputs": [
    {
     "name": "stdout",
     "output_type": "stream",
     "text": [
      "6\n"
     ]
    }
   ],
   "source": [
    "# len()\n",
    "a='python'\n",
    "b=len(a)\n",
    "print(b)"
   ]
  },
  {
   "cell_type": "code",
   "execution_count": 57,
   "metadata": {},
   "outputs": [
    {
     "name": "stdout",
     "output_type": "stream",
     "text": [
      "python\n"
     ]
    }
   ],
   "source": [
    "# lower\n",
    "a='PYTHON'\n",
    "b=a.lower()\n",
    "print(b)"
   ]
  },
  {
   "cell_type": "code",
   "execution_count": 58,
   "metadata": {},
   "outputs": [
    {
     "name": "stdout",
     "output_type": "stream",
     "text": [
      "PYTHON\n"
     ]
    }
   ],
   "source": [
    "# upper\n",
    "a='python'\n",
    "b=a.upper()\n",
    "print(b)"
   ]
  },
  {
   "cell_type": "code",
   "execution_count": 1,
   "metadata": {},
   "outputs": [
    {
     "name": "stdout",
     "output_type": "stream",
     "text": [
      "4\n"
     ]
    }
   ],
   "source": [
    "# count\n",
    "a='ppyythonnnn'\n",
    "b=a.count('n')\n",
    "print(b)"
   ]
  }
 ],
 "metadata": {
  "kernelspec": {
   "display_name": "Python 3",
   "language": "python",
   "name": "python3"
  },
  "language_info": {
   "codemirror_mode": {
    "name": "ipython",
    "version": 3
   },
   "file_extension": ".py",
   "mimetype": "text/x-python",
   "name": "python",
   "nbconvert_exporter": "python",
   "pygments_lexer": "ipython3",
   "version": "3.7.4"
  }
 },
 "nbformat": 4,
 "nbformat_minor": 2
}
