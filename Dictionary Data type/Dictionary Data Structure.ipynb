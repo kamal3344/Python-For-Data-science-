{
 "cells": [
  {
   "cell_type": "markdown",
   "metadata": {},
   "source": [
    "# Dictionary "
   ]
  },
  {
   "cell_type": "code",
   "execution_count": 45,
   "metadata": {},
   "outputs": [],
   "source": [
    "# Python Dictionary is used to store the data in a key-value pair format. \n",
    "# The dictionary is the data type in Python, which can simulate the real-life data arrangement where some specific value exists for some particular key. \n",
    "# It is the mutable data-structure. \n",
    "#The dictionary is defined into element Keys and values."
   ]
  },
  {
   "cell_type": "code",
   "execution_count": 46,
   "metadata": {},
   "outputs": [],
   "source": [
    "#  ->Keys must be a single element\n",
    "\n",
    "#  ->Value can be any type such as list, tuple, integer, etc. \n",
    "\n",
    "#  -> dictionary can be represented by {}"
   ]
  },
  {
   "cell_type": "code",
   "execution_count": 47,
   "metadata": {},
   "outputs": [
    {
     "name": "stdout",
     "output_type": "stream",
     "text": [
      "<class 'dict'>\n",
      "lets check\n",
      "{'name': 'Python', 'age': 22}\n"
     ]
    }
   ],
   "source": [
    "a={\"name\":\"Python\",\"age\":22}\n",
    "print(type(a))\n",
    "print(\"lets check\")\n",
    "print(a)"
   ]
  },
  {
   "cell_type": "code",
   "execution_count": 48,
   "metadata": {},
   "outputs": [
    {
     "name": "stdout",
     "output_type": "stream",
     "text": [
      "checking empty dictionary\n",
      "{}\n"
     ]
    }
   ],
   "source": [
    "a={}\n",
    "print(\"checking empty dictionary\")\n",
    "print(a)"
   ]
  },
  {
   "cell_type": "code",
   "execution_count": 49,
   "metadata": {},
   "outputs": [
    {
     "name": "stdout",
     "output_type": "stream",
     "text": [
      "{1: 22, 2: 'kamal', 3: 'something'}\n"
     ]
    }
   ],
   "source": [
    "a={1:22,2:\"kamal\",3:\"something\"}\n",
    "print(a)"
   ]
  },
  {
   "cell_type": "code",
   "execution_count": 65,
   "metadata": {},
   "outputs": [],
   "source": [
    "# methods\n",
    "# -----------------\n",
    "# copy\n",
    "# clear\n",
    "# keys\n",
    "# values\n",
    "# len\n",
    "# pop\n",
    "\n"
   ]
  },
  {
   "cell_type": "code",
   "execution_count": 51,
   "metadata": {},
   "outputs": [
    {
     "name": "stdout",
     "output_type": "stream",
     "text": [
      "<class 'dict'>\n",
      "chech=king the data given the variable a\n",
      "Name : python\n",
      "Age : 29\n",
      "Salary : 25000\n",
      "Company : youtube\n"
     ]
    }
   ],
   "source": [
    "# accessing the dictionary values\n",
    "\n",
    "a = {\"Name\": \"python\", \"Age\": 29, \"salary\":25000,\"Company\":\"youtube\"}  \n",
    "print(type(a))  \n",
    "print('chech=king the data given the variable a')  \n",
    "print(\"Name : %s\" %a[\"Name\"])  \n",
    "print(\"Age : %d\" %a[\"Age\"])  \n",
    "print(\"Salary : %d\" %a[\"salary\"])  \n",
    "print(\"Company : %s\" %a[\"Company\"]) \n",
    "\n",
    "# %s is used for string and %d is used for integer Data type"
   ]
  },
  {
   "cell_type": "code",
   "execution_count": 52,
   "metadata": {},
   "outputs": [
    {
     "name": "stdout",
     "output_type": "stream",
     "text": [
      "<class 'dict'>\n",
      "printing data \n",
      "{'Name': 'John', 'Age': 29, 'salary': 25000, 'Company': 'GOOGLE'}\n",
      "Deleting some of the given  data\n",
      "printing the modified data \n",
      "{'Age': 29, 'salary': 25000, 'Company': 'GOOGLE'}\n"
     ]
    }
   ],
   "source": [
    "# deleting an element from the dictionary\n",
    "\n",
    "a = {\"Name\": \"John\", \"Age\": 29, \"salary\":25000,\"Company\":\"GOOGLE\"}    \n",
    "print(type(a))    \n",
    "print(\"printing data \")    \n",
    "print(a)    \n",
    "print(\"Deleting some of the given  data\")     \n",
    "del a[\"Name\"]        \n",
    "print(\"printing the modified data \")    \n",
    "print(a)        "
   ]
  },
  {
   "cell_type": "code",
   "execution_count": 53,
   "metadata": {},
   "outputs": [
    {
     "name": "stdout",
     "output_type": "stream",
     "text": [
      "{1: 'machine learning', 2: 'artificial intelligence', 4: 'daats science'}\n"
     ]
    }
   ],
   "source": [
    "# using pop() method\n",
    "\n",
    "a={1:'machine learning',2:'artificial intelligence',3:'deep learning',4:'daats science'}\n",
    "a.pop(3)\n",
    "print(a)"
   ]
  },
  {
   "cell_type": "code",
   "execution_count": 54,
   "metadata": {},
   "outputs": [
    {
     "name": "stdout",
     "output_type": "stream",
     "text": [
      "Empty Dictionary: \n",
      "{}\n"
     ]
    }
   ],
   "source": [
    "# Adding dictionary values\n",
    "\n",
    "\n",
    "a = {}   \n",
    "print(\"Empty Dictionary: \")   \n",
    "print(a)   \n",
    "    \n"
   ]
  },
  {
   "cell_type": "code",
   "execution_count": 55,
   "metadata": {},
   "outputs": [
    {
     "name": "stdout",
     "output_type": "stream",
     "text": [
      "{}\n",
      "after adding 3 elements: \n",
      "{0: 'Newyork', 2: 'Delas', 3: 'Washington'}\n"
     ]
    }
   ],
   "source": [
    "# Adding elements to dictionary one at a time   \n",
    "\n",
    "print(a)\n",
    "a[0] = 'Newyork'  \n",
    "a[2] = 'Delas'  \n",
    "a[3] = 'Washington'  \n",
    "print(\"after adding 3 elements: \")   \n",
    "print(a)   \n",
    "    \n"
   ]
  },
  {
   "cell_type": "code",
   "execution_count": 56,
   "metadata": {},
   "outputs": [
    {
     "name": "stdout",
     "output_type": "stream",
     "text": [
      "after adding 3 elements: \n",
      "{0: 'Newyork', 2: 'Delas', 3: 'Washington', 'dict': (20, 33, 24)}\n",
      "Updated key value: \n",
      "{0: 'Newyork', 2: 'Delas', 3: 'machine learning', 'dict': (20, 33, 24)}\n"
     ]
    }
   ],
   "source": [
    "# Adding set of values    \n",
    "# with a single Key   \n",
    "# The dict doesn't exist to dictionary  \n",
    "a['dict'] = 20, 33, 24  \n",
    "print(\"after adding 3 elements: \")   \n",
    "print(a)   \n",
    "    \n",
    "# Updating existing Key's Value   \n",
    "a[3] = 'machine learning'  \n",
    "print(\"Updated key value: \")   \n",
    "print(a)    "
   ]
  },
  {
   "cell_type": "code",
   "execution_count": 57,
   "metadata": {},
   "outputs": [
    {
     "name": "stdout",
     "output_type": "stream",
     "text": [
      "1\n",
      "2\n",
      "3\n"
     ]
    }
   ],
   "source": [
    "# iterating Dictionary\n",
    "\n",
    "a={1:\"Newyork\",2:\"washington\",3:\"Delas\"}\n",
    "for i in a:\n",
    "    # prints the key elements\n",
    "    print(i)"
   ]
  },
  {
   "cell_type": "code",
   "execution_count": 58,
   "metadata": {},
   "outputs": [
    {
     "name": "stdout",
     "output_type": "stream",
     "text": [
      "Newyork\n",
      "washington\n",
      "Delas\n"
     ]
    }
   ],
   "source": [
    "a={1:\"Newyork\",2:\"washington\",3:\"Delas\"}\n",
    "for i in a:\n",
    "    # prints the value elements\n",
    "    print(a[i])"
   ]
  },
  {
   "cell_type": "code",
   "execution_count": 59,
   "metadata": {},
   "outputs": [
    {
     "name": "stdout",
     "output_type": "stream",
     "text": [
      "Name kamal\n",
      "Age 23\n",
      "Salary 250000\n",
      "Company youtube\n"
     ]
    }
   ],
   "source": [
    "a={\"Name\":\"python\",\"Age\":23,\"Salary\":250000,\"Company\":\"youtube\",\"Name\":\"kamal\"}    \n",
    "for x,y in a.items():    \n",
    "    print(x,y) "
   ]
  },
  {
   "cell_type": "code",
   "execution_count": 60,
   "metadata": {},
   "outputs": [
    {
     "name": "stdout",
     "output_type": "stream",
     "text": [
      "{}\n"
     ]
    }
   ],
   "source": [
    "# clear\n",
    "\n",
    "car = {\n",
    "  \"brand\": \"Ford\",\n",
    "  \"model\": \"Mustang\",\n",
    "  \"year\": 1964\n",
    "}\n",
    "\n",
    "car.clear()\n",
    "# which clear the given dictionary\n",
    "print(car)"
   ]
  },
  {
   "cell_type": "code",
   "execution_count": 61,
   "metadata": {},
   "outputs": [
    {
     "name": "stdout",
     "output_type": "stream",
     "text": [
      "{'brand': 'Ford', 'model': 'Mustang', 'year': 1964}\n"
     ]
    }
   ],
   "source": [
    "# copy\n",
    "\n",
    "car = {\n",
    "  \"brand\": \"Ford\",\n",
    "  \"model\": \"Mustang\",\n",
    "  \"year\": 1964\n",
    "}\n",
    "\n",
    "x = car.copy()\n",
    "# copying the element to the x\n",
    "print(x)"
   ]
  },
  {
   "cell_type": "code",
   "execution_count": 62,
   "metadata": {},
   "outputs": [
    {
     "name": "stdout",
     "output_type": "stream",
     "text": [
      "dict_items([('brand', 'Ford'), ('model', 'Mustang'), ('year', 1964)])\n"
     ]
    }
   ],
   "source": [
    "# items\n",
    "car = {\n",
    "  \"brand\": \"Ford\",\n",
    "  \"model\": \"Mustang\",\n",
    "  \"year\": 1964\n",
    "}\n",
    "\n",
    "x = car.items()\n",
    "\n",
    "print(x)"
   ]
  },
  {
   "cell_type": "code",
   "execution_count": 63,
   "metadata": {},
   "outputs": [
    {
     "name": "stdout",
     "output_type": "stream",
     "text": [
      "dict_keys(['brand', 'model', 'year'])\n"
     ]
    }
   ],
   "source": [
    "# keys\n",
    "car = {\n",
    "  \"brand\": \"Ford\",\n",
    "  \"model\": \"Mustang\",\n",
    "  \"year\": 1964\n",
    "}\n",
    "\n",
    "x = car.keys()\n",
    "\n",
    "print(x)"
   ]
  },
  {
   "cell_type": "code",
   "execution_count": 64,
   "metadata": {},
   "outputs": [
    {
     "name": "stdout",
     "output_type": "stream",
     "text": [
      "dict_values(['Ford', 'Mustang', 1964])\n"
     ]
    }
   ],
   "source": [
    "# values\n",
    "car = {\n",
    "  \"brand\": \"Ford\",\n",
    "  \"model\": \"Mustang\",\n",
    "  \"year\": 1964\n",
    "}\n",
    "\n",
    "x = car.values()\n",
    "\n",
    "print(x)"
   ]
  }
 ],
 "metadata": {
  "kernelspec": {
   "display_name": "Python 3",
   "language": "python",
   "name": "python3"
  },
  "language_info": {
   "codemirror_mode": {
    "name": "ipython",
    "version": 3
   },
   "file_extension": ".py",
   "mimetype": "text/x-python",
   "name": "python",
   "nbconvert_exporter": "python",
   "pygments_lexer": "ipython3",
   "version": "3.7.4"
  }
 },
 "nbformat": 4,
 "nbformat_minor": 2
}
