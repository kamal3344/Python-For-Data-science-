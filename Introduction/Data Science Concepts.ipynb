{
 "cells": [
  {
   "cell_type": "markdown",
   "metadata": {},
   "source": [
    "# Features of python\n",
    "----------------------------------------------------\n",
    "\n",
    "\n",
    "\n",
    "# ->  Easy to Learn and Use\n",
    "\n",
    "# -> Expressive Language\n",
    "\n",
    "# -> Interpreted Language\n",
    "\n",
    "# -> Cross-platform Language\n",
    "\n",
    "# -> Free and Open Source\n",
    "\n",
    "# -> Object-Oriented Language\n",
    "\n",
    "# -> GUI Programming Support"
   ]
  },
  {
   "cell_type": "markdown",
   "metadata": {},
   "source": [
    "# Data types\n",
    "----------------------------\n",
    "\n",
    "# -> Numeric Data type\n",
    "\n",
    "# -> Strings\n",
    "\n",
    "# -> List\n",
    "\n",
    "# -> Tuples()\n",
    "\n",
    "# -> Dictionary { }\n",
    "\n",
    "# -> set ()\n",
    "\n"
   ]
  },
  {
   "cell_type": "markdown",
   "metadata": {},
   "source": [
    "# Data science Tools\n",
    "---------------------------------------------\n",
    "\n",
    "#  -> Numpy(Numerical python)\n",
    "\n",
    "#  -> Pandas\n",
    "\n",
    "# -> Matplotlib\n",
    "\n",
    "# -> Seaborn\n"
   ]
  },
  {
   "cell_type": "markdown",
   "metadata": {},
   "source": [
    "# Machine Learning Algorithms\n",
    "----------------------------------------------------------\n",
    "\n",
    "#  -> Supervised Algorithms\n",
    "\n",
    "# ->  unsupervised Algorithms\n",
    "\n",
    "# -> Reinforcement \n"
   ]
  },
  {
   "cell_type": "code",
   "execution_count": null,
   "metadata": {},
   "outputs": [],
   "source": []
  }
 ],
 "metadata": {
  "kernelspec": {
   "display_name": "Python 3",
   "language": "python",
   "name": "python3"
  },
  "language_info": {
   "codemirror_mode": {
    "name": "ipython",
    "version": 3
   },
   "file_extension": ".py",
   "mimetype": "text/x-python",
   "name": "python",
   "nbconvert_exporter": "python",
   "pygments_lexer": "ipython3",
   "version": "3.7.4"
  }
 },
 "nbformat": 4,
 "nbformat_minor": 2
}
